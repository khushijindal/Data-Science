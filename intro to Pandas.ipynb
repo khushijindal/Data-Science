{
 "cells": [
  {
   "cell_type": "code",
   "execution_count": 1,
   "metadata": {},
   "outputs": [],
   "source": [
    "import numpy as np\n",
    "import pandas as pd\n"
   ]
  },
  {
   "cell_type": "code",
   "execution_count": 3,
   "metadata": {
    "scrolled": false
   },
   "outputs": [
    {
     "data": {
      "text/html": [
       "<div>\n",
       "<style scoped>\n",
       "    .dataframe tbody tr th:only-of-type {\n",
       "        vertical-align: middle;\n",
       "    }\n",
       "\n",
       "    .dataframe tbody tr th {\n",
       "        vertical-align: top;\n",
       "    }\n",
       "\n",
       "    .dataframe thead th {\n",
       "        text-align: right;\n",
       "    }\n",
       "</style>\n",
       "<table border=\"1\" class=\"dataframe\">\n",
       "  <thead>\n",
       "    <tr style=\"text-align: right;\">\n",
       "      <th></th>\n",
       "      <th>subject</th>\n",
       "      <th>timepoint</th>\n",
       "      <th>event</th>\n",
       "      <th>region</th>\n",
       "      <th>signal</th>\n",
       "    </tr>\n",
       "  </thead>\n",
       "  <tbody>\n",
       "    <tr>\n",
       "      <th>0</th>\n",
       "      <td>s13</td>\n",
       "      <td>18</td>\n",
       "      <td>stim</td>\n",
       "      <td>parietal</td>\n",
       "      <td>-0.017552</td>\n",
       "    </tr>\n",
       "    <tr>\n",
       "      <th>1</th>\n",
       "      <td>s5</td>\n",
       "      <td>14</td>\n",
       "      <td>stim</td>\n",
       "      <td>parietal</td>\n",
       "      <td>-0.080883</td>\n",
       "    </tr>\n",
       "    <tr>\n",
       "      <th>2</th>\n",
       "      <td>s12</td>\n",
       "      <td>18</td>\n",
       "      <td>stim</td>\n",
       "      <td>parietal</td>\n",
       "      <td>-0.081033</td>\n",
       "    </tr>\n",
       "    <tr>\n",
       "      <th>3</th>\n",
       "      <td>s11</td>\n",
       "      <td>18</td>\n",
       "      <td>stim</td>\n",
       "      <td>parietal</td>\n",
       "      <td>-0.046134</td>\n",
       "    </tr>\n",
       "    <tr>\n",
       "      <th>4</th>\n",
       "      <td>s10</td>\n",
       "      <td>18</td>\n",
       "      <td>stim</td>\n",
       "      <td>parietal</td>\n",
       "      <td>-0.037970</td>\n",
       "    </tr>\n",
       "  </tbody>\n",
       "</table>\n",
       "</div>"
      ],
      "text/plain": [
       "  subject  timepoint event    region    signal\n",
       "0     s13         18  stim  parietal -0.017552\n",
       "1      s5         14  stim  parietal -0.080883\n",
       "2     s12         18  stim  parietal -0.081033\n",
       "3     s11         18  stim  parietal -0.046134\n",
       "4     s10         18  stim  parietal -0.037970"
      ]
     },
     "execution_count": 3,
     "metadata": {},
     "output_type": "execute_result"
    }
   ],
   "source": [
    "import seaborn as sns\n",
    "df=sns.load_dataset('fmri')\n",
    "df.head()"
   ]
  },
  {
   "cell_type": "code",
   "execution_count": 4,
   "metadata": {},
   "outputs": [
    {
     "name": "stdout",
     "output_type": "stream",
     "text": [
      "     subject  timepoint event    region    signal\n",
      "0        s13         18  stim  parietal -0.017552\n",
      "1         s5         14  stim  parietal -0.080883\n",
      "2        s12         18  stim  parietal -0.081033\n",
      "3        s11         18  stim  parietal -0.046134\n",
      "4        s10         18  stim  parietal -0.037970\n",
      "...      ...        ...   ...       ...       ...\n",
      "1059      s0          8   cue   frontal  0.018165\n",
      "1060     s13          7   cue   frontal -0.029130\n",
      "1061     s12          7   cue   frontal -0.004939\n",
      "1062     s11          7   cue   frontal -0.025367\n",
      "1063      s0          0   cue  parietal -0.006899\n",
      "\n",
      "[1064 rows x 5 columns]\n"
     ]
    }
   ],
   "source": [
    "print(df)\n"
   ]
  },
  {
   "cell_type": "code",
   "execution_count": 5,
   "metadata": {},
   "outputs": [],
   "source": [
    "df1=df.head(8)"
   ]
  },
  {
   "cell_type": "code",
   "execution_count": 6,
   "metadata": {},
   "outputs": [
    {
     "name": "stdout",
     "output_type": "stream",
     "text": [
      "  subject  timepoint event    region    signal\n",
      "0     s13         18  stim  parietal -0.017552\n",
      "1      s5         14  stim  parietal -0.080883\n",
      "2     s12         18  stim  parietal -0.081033\n",
      "3     s11         18  stim  parietal -0.046134\n",
      "4     s10         18  stim  parietal -0.037970\n",
      "5      s9         18  stim  parietal -0.103513\n",
      "6      s8         18  stim  parietal -0.064408\n",
      "7      s7         18  stim  parietal -0.060526\n"
     ]
    }
   ],
   "source": [
    "print(df1\n",
    "     )"
   ]
  },
  {
   "cell_type": "code",
   "execution_count": 7,
   "metadata": {},
   "outputs": [
    {
     "name": "stdout",
     "output_type": "stream",
     "text": [
      "subject       object\n",
      "timepoint      int64\n",
      "event         object\n",
      "region        object\n",
      "signal       float64\n",
      "dtype: object\n",
      "Index(['subject', 'timepoint', 'event', 'region', 'signal'], dtype='object')\n",
      "RangeIndex(start=0, stop=8, step=1)\n",
      "[['s13' 18 'stim' 'parietal' -0.017551581538]\n",
      " ['s5' 14 'stim' 'parietal' -0.0808829319505]\n",
      " ['s12' 18 'stim' 'parietal' -0.0810330187333]\n",
      " ['s11' 18 'stim' 'parietal' -0.04613439017519999]\n",
      " ['s10' 18 'stim' 'parietal' -0.037970203264199996]\n",
      " ['s9' 18 'stim' 'parietal' -0.10351309616]\n",
      " ['s8' 18 'stim' 'parietal' -0.0644081947232]\n",
      " ['s7' 18 'stim' 'parietal' -0.0605262017124]]\n",
      "         timepoint       signal\n",
      "count  1064.000000  1064.000000\n",
      "mean      9.000000     0.003540\n",
      "std       5.479801     0.093930\n",
      "min       0.000000    -0.255486\n",
      "25%       4.000000    -0.046070\n",
      "50%       9.000000    -0.013653\n",
      "75%      14.000000     0.024293\n",
      "max      18.000000     0.564985\n"
     ]
    }
   ],
   "source": [
    "print(df1.dtypes)\n",
    "print(df1.columns)\n",
    "print(df1.index)\n",
    "print(df1.values)\n",
    "print(df.describe())"
   ]
  },
  {
   "cell_type": "code",
   "execution_count": 8,
   "metadata": {},
   "outputs": [
    {
     "name": "stdout",
     "output_type": "stream",
     "text": [
      "  subject  timepoint event    region    signal\n",
      "0     s13         18  stim  parietal -0.017552\n",
      "4     s10         18  stim  parietal -0.037970\n",
      "3     s11         18  stim  parietal -0.046134\n",
      "7      s7         18  stim  parietal -0.060526\n",
      "6      s8         18  stim  parietal -0.064408\n",
      "1      s5         14  stim  parietal -0.080883\n",
      "2     s12         18  stim  parietal -0.081033\n",
      "5      s9         18  stim  parietal -0.103513\n"
     ]
    }
   ],
   "source": [
    "print(df1.sort_values('signal',ascending=False))"
   ]
  },
  {
   "cell_type": "code",
   "execution_count": 9,
   "metadata": {},
   "outputs": [
    {
     "name": "stdout",
     "output_type": "stream",
     "text": [
      "0       18\n",
      "1       14\n",
      "2       18\n",
      "3       18\n",
      "4       18\n",
      "        ..\n",
      "1059     8\n",
      "1060     7\n",
      "1061     7\n",
      "1062     7\n",
      "1063     0\n",
      "Name: timepoint, Length: 1064, dtype: int64\n"
     ]
    }
   ],
   "source": [
    "print(df.timepoint)"
   ]
  },
  {
   "cell_type": "code",
   "execution_count": 10,
   "metadata": {},
   "outputs": [
    {
     "name": "stdout",
     "output_type": "stream",
     "text": [
      "  subject  timepoint event    region    signal\n",
      "2     s12         18  stim  parietal -0.081033\n",
      "3     s11         18  stim  parietal -0.046134\n",
      "4     s10         18  stim  parietal -0.037970\n",
      "5      s9         18  stim  parietal -0.103513\n"
     ]
    }
   ],
   "source": [
    "print(df[2:6])"
   ]
  },
  {
   "cell_type": "code",
   "execution_count": 11,
   "metadata": {},
   "outputs": [
    {
     "name": "stdout",
     "output_type": "stream",
     "text": [
      "  subject  timepoint event    region    signal\n",
      "0     s13         18  stim  parietal -0.017552\n",
      "2     s12         18  stim  parietal -0.081033\n",
      "3     s11         18  stim  parietal -0.046134\n",
      "4     s10         18  stim  parietal -0.037970\n",
      "5      s9         18  stim  parietal -0.103513\n",
      "6      s8         18  stim  parietal -0.064408\n",
      "7      s7         18  stim  parietal -0.060526\n"
     ]
    }
   ],
   "source": [
    "print(df1[df1.timepoint>16])\n"
   ]
  },
  {
   "cell_type": "code",
   "execution_count": 13,
   "metadata": {},
   "outputs": [
    {
     "name": "stdout",
     "output_type": "stream",
     "text": [
      "0     True\n",
      "1    False\n",
      "2     True\n",
      "3     True\n",
      "4    False\n",
      "5    False\n",
      "6    False\n",
      "7    False\n",
      "Name: subject, dtype: bool\n"
     ]
    }
   ],
   "source": [
    "print(df1['subject'].isin(['s13','s11','s12']))"
   ]
  },
  {
   "cell_type": "code",
   "execution_count": 14,
   "metadata": {},
   "outputs": [
    {
     "name": "stdout",
     "output_type": "stream",
     "text": [
      "  subject  timepoint event    region    signal\n",
      "0     s13         18  stim  parietal -0.017552\n",
      "2     s12         18  stim  parietal -0.081033\n",
      "3     s11         18  stim  parietal -0.046134\n"
     ]
    }
   ],
   "source": [
    "print(df1[df1['subject'].isin(['s13','s11','s12'])])"
   ]
  },
  {
   "cell_type": "code",
   "execution_count": 18,
   "metadata": {},
   "outputs": [
    {
     "name": "stderr",
     "output_type": "stream",
     "text": [
      "C:\\Users\\DELL\\anaconda3\\lib\\site-packages\\ipykernel_launcher.py:1: SettingWithCopyWarning: \n",
      "A value is trying to be set on a copy of a slice from a DataFrame.\n",
      "Try using .loc[row_indexer,col_indexer] = value instead\n",
      "\n",
      "See the caveats in the documentation: https://pandas.pydata.org/pandas-docs/stable/user_guide/indexing.html#returning-a-view-versus-a-copy\n",
      "  \"\"\"Entry point for launching an IPython kernel.\n"
     ]
    }
   ],
   "source": [
    "df1['new']=df1.subject+ df1.region\n"
   ]
  },
  {
   "cell_type": "code",
   "execution_count": 19,
   "metadata": {},
   "outputs": [
    {
     "name": "stderr",
     "output_type": "stream",
     "text": [
      "C:\\Users\\DELL\\anaconda3\\lib\\site-packages\\pandas\\core\\frame.py:4133: SettingWithCopyWarning: \n",
      "A value is trying to be set on a copy of a slice from a DataFrame\n",
      "\n",
      "See the caveats in the documentation: https://pandas.pydata.org/pandas-docs/stable/user_guide/indexing.html#returning-a-view-versus-a-copy\n",
      "  errors=errors,\n"
     ]
    }
   ],
   "source": [
    "df1.rename(columns={'subject':'test'},inplace=True)"
   ]
  },
  {
   "cell_type": "code",
   "execution_count": 20,
   "metadata": {},
   "outputs": [
    {
     "name": "stdout",
     "output_type": "stream",
     "text": [
      "  test  timepoint event    region    signal          new\n",
      "0  s13         18  stim  parietal -0.017552  s13parietal\n",
      "1   s5         14  stim  parietal -0.080883   s5parietal\n",
      "2  s12         18  stim  parietal -0.081033  s12parietal\n",
      "3  s11         18  stim  parietal -0.046134  s11parietal\n",
      "4  s10         18  stim  parietal -0.037970  s10parietal\n",
      "5   s9         18  stim  parietal -0.103513   s9parietal\n",
      "6   s8         18  stim  parietal -0.064408   s8parietal\n",
      "7   s7         18  stim  parietal -0.060526   s7parietal\n"
     ]
    }
   ],
   "source": [
    "df2=df1[:]\n",
    "print(df2)\n"
   ]
  },
  {
   "cell_type": "code",
   "execution_count": 21,
   "metadata": {},
   "outputs": [
    {
     "name": "stdout",
     "output_type": "stream",
     "text": [
      "  test  timepoint event    region    signal          new  subject\n",
      "0  s13         18  stim  parietal -0.017552  s13parietal      NaN\n",
      "1   s5         14  stim  parietal -0.080883   s5parietal      NaN\n",
      "2  s12         18  stim  parietal -0.081033  s12parietal      NaN\n",
      "3  s11         18  stim  parietal -0.046134  s11parietal      3.0\n",
      "4  s10         18  stim  parietal -0.037970  s10parietal      NaN\n",
      "5   s9         18  stim  parietal -0.103513   s9parietal      NaN\n",
      "6   s8         18  stim  parietal -0.064408   s8parietal      NaN\n",
      "7   s7         18  stim  parietal -0.060526   s7parietal      NaN\n"
     ]
    },
    {
     "name": "stderr",
     "output_type": "stream",
     "text": [
      "C:\\Users\\DELL\\anaconda3\\lib\\site-packages\\pandas\\core\\indexing.py:844: SettingWithCopyWarning: \n",
      "A value is trying to be set on a copy of a slice from a DataFrame.\n",
      "Try using .loc[row_indexer,col_indexer] = value instead\n",
      "\n",
      "See the caveats in the documentation: https://pandas.pydata.org/pandas-docs/stable/user_guide/indexing.html#returning-a-view-versus-a-copy\n",
      "  self.obj[key] = _infer_fill_value(value)\n",
      "C:\\Users\\DELL\\anaconda3\\lib\\site-packages\\pandas\\core\\indexing.py:965: SettingWithCopyWarning: \n",
      "A value is trying to be set on a copy of a slice from a DataFrame.\n",
      "Try using .loc[row_indexer,col_indexer] = value instead\n",
      "\n",
      "See the caveats in the documentation: https://pandas.pydata.org/pandas-docs/stable/user_guide/indexing.html#returning-a-view-versus-a-copy\n",
      "  self.obj[item] = s\n"
     ]
    }
   ],
   "source": [
    "df1.loc[3,'subject']=3\n",
    "print(df1)\n"
   ]
  },
  {
   "cell_type": "code",
   "execution_count": null,
   "metadata": {},
   "outputs": [],
   "source": []
  },
  {
   "cell_type": "code",
   "execution_count": null,
   "metadata": {},
   "outputs": [],
   "source": []
  }
 ],
 "metadata": {
  "kernelspec": {
   "display_name": "Python 3",
   "language": "python",
   "name": "python3"
  },
  "language_info": {
   "codemirror_mode": {
    "name": "ipython",
    "version": 3
   },
   "file_extension": ".py",
   "mimetype": "text/x-python",
   "name": "python",
   "nbconvert_exporter": "python",
   "pygments_lexer": "ipython3",
   "version": "3.7.6"
  }
 },
 "nbformat": 4,
 "nbformat_minor": 4
}
